{
 "cells": [
  {
   "cell_type": "code",
   "execution_count": 1,
   "id": "355c8f4a-ab95-43d3-a6c1-7f51973c170b",
   "metadata": {},
   "outputs": [],
   "source": [
    "import numpy as np\n",
    "import matplotlib.pyplot as pl\n",
    "import pandas as pd"
   ]
  },
  {
   "cell_type": "markdown",
   "id": "451b2c48-a8de-499e-9d05-f2f98e901a42",
   "metadata": {},
   "source": [
    "### Load dataset"
   ]
  },
  {
   "cell_type": "code",
   "execution_count": 2,
   "id": "8b45eca2-9ea9-4ab0-8af8-36564d94bc8d",
   "metadata": {},
   "outputs": [],
   "source": [
    "dataset=pd.read_csv(\"dataset_test.csv\")"
   ]
  },
  {
   "cell_type": "code",
   "execution_count": 3,
   "id": "9875c4fc-11b1-461a-8197-3cb2bb76f155",
   "metadata": {},
   "outputs": [
    {
     "name": "stdout",
     "output_type": "stream",
     "text": [
      "Index(['anchor_ratio', 'trans_range', 'node_density', 'iterations', 'ale',\n",
      "       'sd_ale'],\n",
      "      dtype='object')\n",
      "(107, 6)\n"
     ]
    }
   ],
   "source": [
    "print(dataset.columns)\n",
    "print(np.shape(dataset))\n",
    "#print(dataset.head)\n",
    "#print(dataset.info)\n",
    "#print(dataset.describe)\n",
    "#print(dataset.values)"
   ]
  },
  {
   "cell_type": "markdown",
   "id": "f962f751-f460-43f9-848a-1764c1775c6f",
   "metadata": {},
   "source": [
    "### Extract data and labels"
   ]
  },
  {
   "cell_type": "code",
   "execution_count": 14,
   "id": "5efebaa7-c125-418e-b7dd-ce3e8d3d806d",
   "metadata": {},
   "outputs": [
    {
     "name": "stdout",
     "output_type": "stream",
     "text": [
      "shape of data, labels and coefficients are important\n",
      "shape of data: (107, 5)\n",
      "shape of lables: (107,)\n",
      "shape of Cofficients: (5,)\n"
     ]
    }
   ],
   "source": [
    "# X is data and y is target   , initial theta is Coefficients\n",
    "\n",
    "X=dataset.values[:,0:4]\n",
    "y=dataset.values[:,4]\n",
    "# y=y[:,np.newaxis]\n",
    "# insert a column in first of X with 1 values\n",
    "X=np.hstack((np.ones((X.shape[0],1)),X))\n",
    "\n",
    " # Initial guess for parameters\n",
    "theta = np.zeros((X.shape[1]))\n",
    "print(\"shape of data, labels and coefficients are important\")\n",
    "print(\"shape of data:\",X.shape)\n",
    "print(\"shape of lables:\",y.shape)\n",
    "print(\"shape of Cofficients:\",theta.shape)\n"
   ]
  },
  {
   "cell_type": "markdown",
   "id": "29ae5eb3-24ad-46d9-9d85-b2c5b20c186b",
   "metadata": {},
   "source": [
    "### split data to train and test"
   ]
  },
  {
   "cell_type": "code",
   "execution_count": 15,
   "id": "51b6e884-8f91-4ad4-bc84-d66d1fff9510",
   "metadata": {},
   "outputs": [],
   "source": [
    "from sklearn.model_selection import train_test_split\n",
    "X_train,X_test,y_train,y_test=train_test_split(X,y,test_size=0.25)"
   ]
  },
  {
   "cell_type": "markdown",
   "id": "a6b087eb-74bf-4843-b6f3-12112cb8a482",
   "metadata": {},
   "source": [
    "### Vectorize Implementaion of SSE cost function and its gradient"
   ]
  },
  {
   "cell_type": "code",
   "execution_count": 16,
   "id": "138cc1ab-0ffe-4bea-a751-40f7df5949d7",
   "metadata": {},
   "outputs": [],
   "source": [
    "def sse_cost(w,X,y):\n",
    "    error= X@ w -y\n",
    "    return 0.5*np.dot(error.T, error)"
   ]
  },
  {
   "cell_type": "code",
   "execution_count": 17,
   "id": "7e515591-d505-4916-9b78-af9bca1393c5",
   "metadata": {},
   "outputs": [],
   "source": [
    "def gradient_cost(w,X,y):\n",
    "    error= X @ w -y\n",
    "    return X.T @ error"
   ]
  },
  {
   "cell_type": "markdown",
   "id": "15d4b608-862d-4284-8168-cb606603beca",
   "metadata": {},
   "source": [
    "### Using optimization function from Scipy.ptimize"
   ]
  },
  {
   "cell_type": "code",
   "execution_count": 18,
   "id": "77254f95-d421-454b-bae2-50196aa8d021",
   "metadata": {},
   "outputs": [],
   "source": [
    "from scipy.optimize import minimize\n"
   ]
  },
  {
   "cell_type": "markdown",
   "id": "58a7c187-b935-48bb-bcfa-59feedc5c72d",
   "metadata": {},
   "source": [
    "### Saving the outputs of the `minimize` function:"
   ]
  },
  {
   "cell_type": "code",
   "execution_count": 19,
   "id": "76bd312c-48f3-40c0-a781-266b0e3b79a0",
   "metadata": {},
   "outputs": [],
   "source": [
    "result=minimize(sse_cost,theta,method='BFGS',args=(X_train, y_train),jac=gradient_cost)"
   ]
  },
  {
   "cell_type": "code",
   "execution_count": 20,
   "id": "50ac096b-7df9-4df1-ba1b-5c018290135c",
   "metadata": {},
   "outputs": [
    {
     "name": "stdout",
     "output_type": "stream",
     "text": [
      "Result of optization is: True\n"
     ]
    }
   ],
   "source": [
    "print(\"Result of optization is:\",result.success)"
   ]
  },
  {
   "cell_type": "markdown",
   "id": "ba42142b-4b4f-4f07-8440-054677031d1a",
   "metadata": {},
   "source": [
    " ### the minimum value of the cost function"
   ]
  },
  {
   "cell_type": "code",
   "execution_count": 12,
   "id": "71f402f2-40e9-4a7b-9143-a9abbf922707",
   "metadata": {},
   "outputs": [
    {
     "name": "stdout",
     "output_type": "stream",
     "text": [
      " the minimum value of the cost function: 1.694196720808598\n"
     ]
    }
   ],
   "source": [
    "print(\" the minimum value of the cost function:\",result.fun)"
   ]
  },
  {
   "cell_type": "code",
   "execution_count": 27,
   "id": "3802f8ac-e78a-475d-9d49-4a3dc514d21b",
   "metadata": {},
   "outputs": [
    {
     "name": "stdout",
     "output_type": "stream",
     "text": [
      "8\n",
      "Optimal parameters (theta): [ 2.98208021 -0.01237722 -0.03115868 -0.00460226 -0.00904559]\n"
     ]
    }
   ],
   "source": [
    "coef=result.x\n",
    "print(result.nit)\n",
    "print(\"Optimal parameters (theta):\",coef)"
   ]
  },
  {
   "cell_type": "markdown",
   "id": "2660a686-3a8e-4cb0-b60d-f8f963a56a26",
   "metadata": {},
   "source": [
    "### simple Implementaion of SSE cost function and its gradient"
   ]
  },
  {
   "cell_type": "code",
   "execution_count": 56,
   "id": "2ff589ad-c087-4cdd-a27b-c5d4f4ba322c",
   "metadata": {},
   "outputs": [
    {
     "name": "stdout",
     "output_type": "stream",
     "text": [
      "Optimal parameters (theta): [ 2.98208021 -0.01237722 -0.03115868 -0.00460226 -0.00904559]\n",
      "True\n"
     ]
    }
   ],
   "source": [
    "\n",
    "    \n",
    "# SSE cost function\n",
    "# SSE cost function for the linear model\n",
    "def sse_cost1(coefficients, X, y_true):\n",
    "    y_pred = X@coefficients\n",
    "    return 0.5*np.sum((y_pred - y_true)**2)\n",
    "\n",
    "# Gradient (Jacobian) of SSE cost function for the linear model\n",
    "def sse_gradient1(coefficients, X, y_true):\n",
    "    y_pred = X@coefficients\n",
    "    gradient = np.dot(X.T, y_pred - y_true)\n",
    "    return gradient\n",
    "\n",
    "\n",
    "# Run BFGS optimization using minimize\n",
    "result1 = minimize(sse_cost1, theta, method='BFGS', args=(X_train, y_train),jac=sse_gradient1)\n",
    "\n",
    "# # Extract the optimal parameters\n",
    "optimal_theta = result1.x\n",
    "\n",
    "print(\"Optimal parameters (theta):\", optimal_theta)\n",
    "print(result1.success)"
   ]
  },
  {
   "cell_type": "markdown",
   "id": "54c06e55-9b60-4528-824a-5eada035388d",
   "metadata": {},
   "source": [
    "### predection"
   ]
  },
  {
   "cell_type": "code",
   "execution_count": 29,
   "id": "44bc4f51-b274-4000-91c2-1f6b046f3f4b",
   "metadata": {},
   "outputs": [],
   "source": [
    "def hypothesis_function( Coefficients,X_test):\n",
    "    return X_test@ Coefficients"
   ]
  },
  {
   "cell_type": "code",
   "execution_count": 30,
   "id": "2ede2b8c-0d14-44de-8d39-3ea869e42618",
   "metadata": {},
   "outputs": [],
   "source": [
    "y_predic=hypothesis_function(coef,X_test)"
   ]
  },
  {
   "cell_type": "markdown",
   "id": "5fc4b334-7bb1-4a49-9a94-1d8a7bab287c",
   "metadata": {},
   "source": [
    "### Evaluation"
   ]
  },
  {
   "cell_type": "code",
   "execution_count": 31,
   "id": "601b7382-2c13-46ae-b185-0c409f46d959",
   "metadata": {},
   "outputs": [],
   "source": [
    "from sklearn.metrics import mean_squared_error"
   ]
  },
  {
   "cell_type": "code",
   "execution_count": 32,
   "id": "69c32cab-0f3e-42da-90d0-7c498f38f819",
   "metadata": {},
   "outputs": [
    {
     "name": "stdout",
     "output_type": "stream",
     "text": [
      "mean squared error: 0.04853897300516403\n"
     ]
    }
   ],
   "source": [
    "print(\"mean squared error:\",mean_squared_error(y_test,y_predic))"
   ]
  },
  {
   "cell_type": "markdown",
   "id": "17b8de43-ca34-42bd-83c3-e31c9cad05ec",
   "metadata": {},
   "source": [
    "## Using regulaization "
   ]
  },
  {
   "cell_type": "markdown",
   "id": "b5db8795-c7ce-4c15-a331-79f208a38f1f",
   "metadata": {},
   "source": [
    "### Vectorize Implementaion of SSE cost function and its gradient with regularization"
   ]
  },
  {
   "cell_type": "code",
   "execution_count": 5,
   "id": "ac4e9c9e-8ed5-48e1-8beb-4357d4486286",
   "metadata": {},
   "outputs": [],
   "source": [
    "def sse_cost2(theta,X,y,landa):\n",
    "    \"\"\" \n",
    "    m is the slope, b is the intercept, X is the data matrix, y is the label vector, landa is the regulation coefficient\n",
    "     L2 regularization  \n",
    "    \"\"\"\n",
    "    m=theta[1:]\n",
    "    error= X@ theta -y\n",
    "    return 0.5*(np.dot(error.T, error)+landa*(m.T@m))"
   ]
  },
  {
   "cell_type": "code",
   "execution_count": 8,
   "id": "5209b0ec-350a-41a5-b61c-a061de29b0c5",
   "metadata": {},
   "outputs": [],
   "source": [
    "def gradient_cost2(theta,X,y,landa):\n",
    "    \"\"\" \n",
    "    m is the slope, b is the intercept, X is the data matrix, y is the label vector, landa is the regulation coefficient\n",
    "     L2 regularization  \n",
    "    \"\"\"\n",
    "    m=theta[1:]\n",
    "    error= X @ theta -y\n",
    "    return X.T @ error+np.hstack((np.zeros((1)),landa*m))"
   ]
  },
  {
   "cell_type": "markdown",
   "id": "176cc21a-2942-431a-b598-f1d1c855cacc",
   "metadata": {},
   "source": [
    "### preparation data"
   ]
  },
  {
   "cell_type": "code",
   "execution_count": 50,
   "id": "b61a3e05-8052-40a1-b9d8-9619c4c0e5eb",
   "metadata": {},
   "outputs": [],
   "source": [
    "landa=0.2"
   ]
  },
  {
   "cell_type": "code",
   "execution_count": 9,
   "id": "70fd447b-7509-4f45-9db1-97d2992bd75d",
   "metadata": {},
   "outputs": [
    {
     "ename": "NameError",
     "evalue": "name 'minimize' is not defined",
     "output_type": "error",
     "traceback": [
      "\u001b[1;31m---------------------------------------------------------------------------\u001b[0m",
      "\u001b[1;31mNameError\u001b[0m                                 Traceback (most recent call last)",
      "Cell \u001b[1;32mIn[9], line 2\u001b[0m\n\u001b[0;32m      1\u001b[0m \u001b[38;5;66;03m# Run BFGS optimization using minimize\u001b[39;00m\n\u001b[1;32m----> 2\u001b[0m result2 \u001b[38;5;241m=\u001b[39m \u001b[43mminimize\u001b[49m(sse_cost2, theta, method\u001b[38;5;241m=\u001b[39m\u001b[38;5;124m'\u001b[39m\u001b[38;5;124mBFGS\u001b[39m\u001b[38;5;124m'\u001b[39m, args\u001b[38;5;241m=\u001b[39m(X_train, y_train,landa),jac\u001b[38;5;241m=\u001b[39mgradient_cost2)\n",
      "\u001b[1;31mNameError\u001b[0m: name 'minimize' is not defined"
     ]
    }
   ],
   "source": [
    "# Run BFGS optimization using minimize\n",
    "result2 = minimize(sse_cost2, theta, method='BFGS', args=(X_train, y_train,landa),jac=gradient_cost2)"
   ]
  },
  {
   "cell_type": "code",
   "execution_count": 52,
   "id": "a9c61ccb-5c0e-4720-ba54-d01563e10790",
   "metadata": {},
   "outputs": [
    {
     "name": "stdout",
     "output_type": "stream",
     "text": [
      " the minimum value of the cost function: 2.341940125376449\n"
     ]
    }
   ],
   "source": [
    "print(\" the minimum value of the cost function:\",result.fun)"
   ]
  },
  {
   "cell_type": "code",
   "execution_count": 53,
   "id": "ddfbe9f7-c916-4281-ac62-040b34846d68",
   "metadata": {},
   "outputs": [
    {
     "name": "stdout",
     "output_type": "stream",
     "text": [
      "Result of optization is: True\n"
     ]
    }
   ],
   "source": [
    "print(\"Result of optization is:\",result.success)"
   ]
  },
  {
   "cell_type": "code",
   "execution_count": 54,
   "id": "5e256791-61b9-4d15-b904-615fcc5c2e95",
   "metadata": {},
   "outputs": [
    {
     "name": "stdout",
     "output_type": "stream",
     "text": [
      "8\n",
      "Optimal parameters (theta): [ 2.98208021 -0.01237722 -0.03115868 -0.00460226 -0.00904559]\n"
     ]
    }
   ],
   "source": [
    "coef=result.x\n",
    "print(result.nit)\n",
    "print(\"Optimal parameters (theta):\",coef)"
   ]
  },
  {
   "cell_type": "code",
   "execution_count": null,
   "id": "ead7356c-eb06-427c-97a0-8794719aadb9",
   "metadata": {},
   "outputs": [],
   "source": []
  }
 ],
 "metadata": {
  "kernelspec": {
   "display_name": "Python 3 (ipykernel)",
   "language": "python",
   "name": "python3"
  },
  "language_info": {
   "codemirror_mode": {
    "name": "ipython",
    "version": 3
   },
   "file_extension": ".py",
   "mimetype": "text/x-python",
   "name": "python",
   "nbconvert_exporter": "python",
   "pygments_lexer": "ipython3",
   "version": "3.12.0"
  }
 },
 "nbformat": 4,
 "nbformat_minor": 5
}
