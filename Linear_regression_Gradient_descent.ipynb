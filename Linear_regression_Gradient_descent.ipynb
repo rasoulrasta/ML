{
 "cells": [
  {
   "cell_type": "code",
   "execution_count": 1,
   "id": "0cde70e2-f43f-4aed-8c1a-24945d31ee3a",
   "metadata": {},
   "outputs": [],
   "source": [
    "import numpy as np\n",
    "import matplotlib.pyplot as plt"
   ]
  },
  {
   "cell_type": "code",
   "execution_count": 2,
   "id": "a78304e3-cacc-4b61-af84-31309f665b3f",
   "metadata": {},
   "outputs": [],
   "source": [
    "#!pip install ucimlrepo\n"
   ]
  },
  {
   "cell_type": "code",
   "execution_count": 3,
   "id": "79f5e9c6-4958-4ed2-9e84-ac0c26379914",
   "metadata": {},
   "outputs": [
    {
     "name": "stdout",
     "output_type": "stream",
     "text": [
      "                    name     role         type demographic  \\\n",
      "0          fixed_acidity  Feature   Continuous        None   \n",
      "1       volatile_acidity  Feature   Continuous        None   \n",
      "2            citric_acid  Feature   Continuous        None   \n",
      "3         residual_sugar  Feature   Continuous        None   \n",
      "4              chlorides  Feature   Continuous        None   \n",
      "5    free_sulfur_dioxide  Feature   Continuous        None   \n",
      "6   total_sulfur_dioxide  Feature   Continuous        None   \n",
      "7                density  Feature   Continuous        None   \n",
      "8                     pH  Feature   Continuous        None   \n",
      "9              sulphates  Feature   Continuous        None   \n",
      "10               alcohol  Feature   Continuous        None   \n",
      "11               quality   Target      Integer        None   \n",
      "12                 color    Other  Categorical        None   \n",
      "\n",
      "               description units missing_values  \n",
      "0                     None  None             no  \n",
      "1                     None  None             no  \n",
      "2                     None  None             no  \n",
      "3                     None  None             no  \n",
      "4                     None  None             no  \n",
      "5                     None  None             no  \n",
      "6                     None  None             no  \n",
      "7                     None  None             no  \n",
      "8                     None  None             no  \n",
      "9                     None  None             no  \n",
      "10                    None  None             no  \n",
      "11  score between 0 and 10  None             no  \n",
      "12            red or white  None             no  \n"
     ]
    }
   ],
   "source": [
    "from ucimlrepo import fetch_ucirepo \n",
    "  \n",
    "# fetch dataset \n",
    "wine_quality = fetch_ucirepo(id=186) \n",
    "  \n",
    "# data (as pandas dataframes) \n",
    "X = wine_quality.data.features \n",
    "y = wine_quality.data.targets \n",
    "  \n",
    "# metadata \n",
    "#print(wine_quality.metadata) \n",
    "  \n",
    "# variable information \n",
    "print(wine_quality.variables) "
   ]
  },
  {
   "cell_type": "code",
   "execution_count": 4,
   "id": "89babee7-16bc-4137-8083-be3de7343800",
   "metadata": {},
   "outputs": [],
   "source": [
    "theta1=np.array([[1],[1],[1],[1],[1],[1],[1],[1],[1],[1],[1],[1]],dtype=np.float64)\n",
    "X1=np.array(X,dtype=np.float64)\n",
    "X1=np.hstack((np.ones((np.shape(X1)[0],1)),X1))\n",
    "y1=np.array(y,dtype=np.float64)\n",
    "\n"
   ]
  },
  {
   "cell_type": "markdown",
   "id": "f891de13-72aa-4c19-801d-cae89d6cf16a",
   "metadata": {},
   "source": [
    "### Normalization"
   ]
  },
  {
   "cell_type": "code",
   "execution_count": 5,
   "id": "a578c216-1a40-4bba-9247-97faf41a9b9d",
   "metadata": {},
   "outputs": [],
   "source": [
    "for i  in range(1,12):\n",
    "    X1[:,i]= (X1[:,i]-np.mean(X1[:,i]))/(np.max(X1[:,i])-np.min(X1[:,i]))"
   ]
  },
  {
   "cell_type": "markdown",
   "id": "bfcbe194-cd36-4cc0-a405-81e45f29cdd4",
   "metadata": {},
   "source": [
    "### showing the range of nomalized data"
   ]
  },
  {
   "cell_type": "code",
   "execution_count": 6,
   "id": "f820eb37-edb7-4408-a667-b9240fda36e4",
   "metadata": {},
   "outputs": [
    {
     "name": "stdout",
     "output_type": "stream",
     "text": [
      "max column 1 0.717743217785195\n",
      "min column 1 -0.2822567822148048\n",
      "mean column 1 -4.8120486953123605e-17\n",
      "max column 2 0.8268893335385563\n",
      "min column 2 -0.1731106664614437\n",
      "mean column 2 1.7498358892044948e-17\n",
      "max column 3 0.808052279921595\n",
      "min column 3 -0.19194772007840505\n",
      "mean column 3 1.3670592884410115e-18\n",
      "max column 4 0.9257172493958986\n",
      "min column 4 -0.07428275060410137\n",
      "mean column 4 3.280942292258428e-18\n",
      "max column 5 0.9218706614910944\n",
      "min column 5 -0.07812933850890547\n",
      "mean column 5 0.0\n",
      "max column 6 0.8974815299368939\n",
      "min column 6 -0.10251847006310605\n",
      "mean column 6 -4.374589723011237e-18\n",
      "max column 7 0.7471323170069987\n",
      "min column 7 -0.2528676829930014\n",
      "mean column 7 -8.749179446022474e-18\n",
      "max column 8 0.8537375394062291\n",
      "min column 8 -0.14626246059377085\n",
      "mean column 8 -2.0451206955077533e-16\n",
      "max column 9 0.6135652352367763\n",
      "min column 9 -0.3864347647632237\n",
      "mean column 9 3.3684340867186524e-16\n",
      "max column 10 0.8251301810861712\n",
      "min column 10 -0.1748698189138289\n",
      "mean column 10 -4.593319209161799e-17\n",
      "max column 11 0.6388694447609489\n",
      "min column 11 -0.36113055523905113\n",
      "mean column 11 1.1592662765979779e-16\n"
     ]
    }
   ],
   "source": [
    "for i  in range(1,12):\n",
    "    print(\"max column\",i,np.max(X1[:,i]))\n",
    "    print(\"min column\",i,np.min(X1[:,i]))\n",
    "    print(\"mean column\",i,np.mean(X1[:,i]))"
   ]
  },
  {
   "cell_type": "markdown",
   "id": "c3e133f3-c1e7-437e-bd6b-d2e2003a8b09",
   "metadata": {},
   "source": [
    "### split data to train and set"
   ]
  },
  {
   "cell_type": "code",
   "execution_count": 7,
   "id": "d9eb9a5f-192d-4c38-9256-7f54c34da8dc",
   "metadata": {},
   "outputs": [],
   "source": [
    "from sklearn.model_selection import train_test_split\n",
    "X_train,X_test,y_train,y_test=train_test_split(X1,y1,test_size=0.25)\n"
   ]
  },
  {
   "cell_type": "code",
   "execution_count": 8,
   "id": "a4c29442-dec9-4a42-a51d-5b476bac4340",
   "metadata": {},
   "outputs": [
    {
     "name": "stdout",
     "output_type": "stream",
     "text": [
      "shape of X_train: (4872, 12)\n",
      "shape of y_train: (4872, 1)\n",
      "shape of X_test: (1625, 12)\n",
      "shape of y_test: (1625, 1)\n"
     ]
    }
   ],
   "source": [
    "print(\"shape of X_train:\", X_train.shape)\n",
    "print(\"shape of y_train:\",y_train.shape)\n",
    "print(\"shape of X_test:\", X_test.shape)\n",
    "print(\"shape of y_test:\",y_test.shape)"
   ]
  },
  {
   "cell_type": "markdown",
   "id": "130a8ff5-78a7-440d-bfce-39f95973f6d1",
   "metadata": {},
   "source": [
    "### defination of Gradient descent function for linear regression"
   ]
  },
  {
   "cell_type": "code",
   "execution_count": 9,
   "id": "18985382-28c7-4d3a-9d10-f2898ca5c6f2",
   "metadata": {},
   "outputs": [],
   "source": [
    "# def regress(X,y,theta,alpha,landa,max_itration=1000,tolerance=1e-2):\n",
    "#     delta_t=np.zeros_like(theta,dtype=np.float64)\n",
    "#     cond= True\n",
    "#     k=0\n",
    "#     for _ in range(max_itration):\n",
    "#         delta_t[0]=alpha*(np.sum((X @ theta)-y))\n",
    "        \n",
    "#         for j in range(1,12):\n",
    "#             delta_t[j]=alpha*(np.sum(((X @ theta)-y)*X[:,j]))+(alpha*landa*theta[j])\n",
    "#         if np.linalg.norm(delta_t) < tolerance:\n",
    "#             break;\n",
    "#         else:\n",
    "#             theta=theta-delta_t\n",
    "#         k=k+1\n",
    "#         print(theta)\n",
    "#         print(k)\n",
    "\n",
    "#     return theta"
   ]
  },
  {
   "cell_type": "code",
   "execution_count": 14,
   "id": "6e9009eb-00b3-4df1-9314-27c10d875457",
   "metadata": {},
   "outputs": [],
   "source": [
    "def gradient_descent(X, y, theta, alpha,landa, num_iterations=1000,tolerance=1e-4):\n",
    "    m=len(y)\n",
    "    for i in range(num_iterations):\n",
    "        error = X @ theta-y\n",
    "        temp=alpha*landa*theta\n",
    "        temp[0]=0\n",
    "        theta1 =theta-temp- alpha/m * (X.T @ error)\n",
    "        if np.linalg.norm(theta-theta1)< tolerance:\n",
    "            break;\n",
    "        theta= theta1\n",
    "    print(i)\n",
    "    return theta;\n",
    "        \n",
    "        "
   ]
  },
  {
   "cell_type": "markdown",
   "id": "af3c7b70-3697-44d3-b143-55b77f955bb9",
   "metadata": {},
   "source": [
    "### applying model on dataset and gaining best coefficients for  linear hypothesis function "
   ]
  },
  {
   "cell_type": "code",
   "execution_count": 15,
   "id": "5ac3bd8f-4b1e-4382-ab17-81a5a17c4373",
   "metadata": {},
   "outputs": [
    {
     "name": "stdout",
     "output_type": "stream",
     "text": [
      "999\n"
     ]
    }
   ],
   "source": [
    "coef=gradient_descent(X_train,y_train,theta1,0.7,0.0001)"
   ]
  },
  {
   "cell_type": "markdown",
   "id": "839f9612-90a9-4a0c-b3a3-3795ff548f92",
   "metadata": {},
   "source": [
    "### perdiction test data"
   ]
  },
  {
   "cell_type": "code",
   "execution_count": 16,
   "id": "142d481b-e15b-4aa6-99fb-6a49321c2069",
   "metadata": {},
   "outputs": [],
   "source": [
    "y_predic=X_test@ coef\n",
    "y_train_predic=X_train@ coef"
   ]
  },
  {
   "cell_type": "markdown",
   "id": "6b552a9a-4168-451f-a115-a006f4cad9ac",
   "metadata": {},
   "source": [
    "### Evaluation"
   ]
  },
  {
   "cell_type": "code",
   "execution_count": 17,
   "id": "d0d645bc-4126-4d02-ba2c-bc979e48a853",
   "metadata": {},
   "outputs": [
    {
     "name": "stdout",
     "output_type": "stream",
     "text": [
      "mean squared error of train data 0.5433618446493054\n",
      "mean squared error of test data 0.5388739606443392\n"
     ]
    }
   ],
   "source": [
    "from sklearn.metrics import mean_squared_error\n",
    "print(\"mean squared error of train data\",mean_squared_error(y_train,y_train_predic))\n",
    "print(\"mean squared error of test data\",mean_squared_error(y_test,y_predic))"
   ]
  },
  {
   "cell_type": "markdown",
   "id": "d900f32d-aacd-4d58-8cc8-094a3bc83cb4",
   "metadata": {},
   "source": [
    "### Use other Optimization\n",
    "Sum of Squared Error"
   ]
  },
  {
   "cell_type": "code",
   "execution_count": 18,
   "id": "04cdeb47-a828-493f-9d70-88216b22ce89",
   "metadata": {},
   "outputs": [],
   "source": [
    "def SSE(X1,y1,w):\n",
    "    error= X1@w -y1\n",
    "    return ((error.T@error)/2)[0,0]"
   ]
  },
  {
   "cell_type": "code",
   "execution_count": 19,
   "id": "feb4d483-4b82-4a4e-817d-aaf5ccfe7d04",
   "metadata": {},
   "outputs": [],
   "source": [
    "objective_function = lambda w: SSE(X1, y1,w)\n"
   ]
  },
  {
   "cell_type": "markdown",
   "id": "19bc2427-a080-44fd-a8ba-950e07364758",
   "metadata": {},
   "source": [
    "### import optimizer"
   ]
  },
  {
   "cell_type": "code",
   "execution_count": 28,
   "id": "c8c8ddad-e47e-43e6-819e-eeef428fb54a",
   "metadata": {},
   "outputs": [],
   "source": [
    "from scipy.optimize import minimize"
   ]
  },
  {
   "cell_type": "code",
   "execution_count": 31,
   "id": "04e0dd77-b2b1-47a2-ae7e-1b2f240b670c",
   "metadata": {},
   "outputs": [
    {
     "name": "stdout",
     "output_type": "stream",
     "text": [
      "(6497, 12)\n",
      "(6497, 1)\n",
      "(12, 1)\n"
     ]
    }
   ],
   "source": [
    "print(X1.shape)\n",
    "print(y1.shape)\n",
    "print(theta1.shape)"
   ]
  },
  {
   "cell_type": "markdown",
   "id": "dfe4be22-9144-4642-bb6b-ad55283108a1",
   "metadata": {},
   "source": [
    "### adjust and reshape"
   ]
  },
  {
   "cell_type": "code",
   "execution_count": 25,
   "id": "afbfb20e-2fe7-4246-88d9-106c3186df1a",
   "metadata": {},
   "outputs": [
    {
     "name": "stdout",
     "output_type": "stream",
     "text": [
      "(6497, 12)\n",
      "(6497,)\n",
      "(12,)\n"
     ]
    }
   ],
   "source": [
    "X=X1\n",
    "y=y1[:,0]\n",
    "theta=theta1[:,0]\n",
    "print(X.shape)\n",
    "print(y.shape)\n",
    "print(theta.shape)"
   ]
  },
  {
   "cell_type": "markdown",
   "id": "ddaeb4a9-f87f-47dc-b092-22b395e79ee6",
   "metadata": {},
   "source": [
    "### split data to train and test"
   ]
  },
  {
   "cell_type": "code",
   "execution_count": 26,
   "id": "ecc70e77-f3a0-432a-806a-6bd09fcb0bfd",
   "metadata": {},
   "outputs": [],
   "source": [
    "from sklearn.model_selection import train_test_split\n",
    "X_train,X_test,y_train,y_test=train_test_split(X,y,test_size=0.25)"
   ]
  },
  {
   "cell_type": "code",
   "execution_count": 32,
   "id": "5d4299a2-2d9c-484d-a64f-be9a75d90623",
   "metadata": {},
   "outputs": [],
   "source": [
    "from scipy.optimize import  minimize  "
   ]
  },
  {
   "cell_type": "code",
   "execution_count": 33,
   "id": "5c4cc7c7-81e4-4b3b-be8b-c88572b5e5a9",
   "metadata": {},
   "outputs": [
    {
     "name": "stdout",
     "output_type": "stream",
     "text": [
      "Optimal parameters (theta): [ 5.8198555   0.89279679 -2.06942659 -0.34412099  2.83597394 -0.3796675\n",
      "  1.96469502 -1.2043936  -2.91355138  0.58848787  1.33647831  1.82128117]\n",
      "True\n"
     ]
    }
   ],
   "source": [
    "\n",
    "# SSE cost function\n",
    "# SSE cost function for the linear model\n",
    "def sse_cost1(coefficients, X, y_true):\n",
    "    y_pred = X@coefficients\n",
    "    return 0.5*np.sum((y_pred - y_true)**2)\n",
    "\n",
    "# Gradient (Jacobian) of SSE cost function for the linear model\n",
    "def sse_gradient1(coefficients, X, y_true):\n",
    "    y_pred = X@coefficients\n",
    "    gradient = np.dot(X.T, y_pred - y_true)\n",
    "    return gradient\n",
    "\n",
    "\n",
    "# Run BFGS optimization using minimize\n",
    "result = minimize(sse_cost1, theta, method='BFGS', args=(X_train, y_train),jac=sse_gradient1)\n",
    "\n",
    "# # Extract the optimal parameters\n",
    "optimal_theta = result.x\n",
    "\n",
    "print(\"Optimal parameters (theta):\", optimal_theta)\n",
    "print(result.success)"
   ]
  },
  {
   "cell_type": "code",
   "execution_count": 34,
   "id": "d7333e45-398a-4fb8-929a-326a29ff092e",
   "metadata": {},
   "outputs": [
    {
     "data": {
      "text/plain": [
       "array([[ 5.81910155],\n",
       "       [-0.01987674],\n",
       "       [-2.12538606],\n",
       "       [-0.10755224],\n",
       "       [ 1.28845488],\n",
       "       [-0.14665841],\n",
       "       [ 1.44380351],\n",
       "       [-0.86320526],\n",
       "       [-0.14726611],\n",
       "       [ 0.22571739],\n",
       "       [ 1.04804184],\n",
       "       [ 2.24585528]])"
      ]
     },
     "execution_count": 34,
     "metadata": {},
     "output_type": "execute_result"
    }
   ],
   "source": [
    "coef"
   ]
  },
  {
   "cell_type": "code",
   "execution_count": null,
   "id": "98c8282a-92d5-458e-89a6-a9942b6e1419",
   "metadata": {},
   "outputs": [],
   "source": []
  }
 ],
 "metadata": {
  "kernelspec": {
   "display_name": "Python 3 (ipykernel)",
   "language": "python",
   "name": "python3"
  },
  "language_info": {
   "codemirror_mode": {
    "name": "ipython",
    "version": 3
   },
   "file_extension": ".py",
   "mimetype": "text/x-python",
   "name": "python",
   "nbconvert_exporter": "python",
   "pygments_lexer": "ipython3",
   "version": "3.12.0"
  }
 },
 "nbformat": 4,
 "nbformat_minor": 5
}
