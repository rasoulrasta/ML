{
 "cells": [
  {
   "cell_type": "code",
   "execution_count": 1,
   "id": "a66b97fd-24c2-4750-966b-84f7e784d5ed",
   "metadata": {},
   "outputs": [],
   "source": [
    "import numpy as np\n",
    "import matplotlib.pyplot as plt\n"
   ]
  },
  {
   "cell_type": "markdown",
   "id": "f285c206-7d43-422f-8a96-8be5b0f28681",
   "metadata": {},
   "source": [
    "### load Dtat Set from Sckit learn\n"
   ]
  },
  {
   "cell_type": "code",
   "execution_count": 2,
   "id": "329bc81f-71cc-4e53-ac14-b941476ce4fd",
   "metadata": {},
   "outputs": [],
   "source": [
    "#load Dtat Set from Sckit learn\n",
    "from sklearn.datasets import fetch_olivetti_faces\n",
    "olivetti_faces=fetch_olivetti_faces()"
   ]
  },
  {
   "cell_type": "markdown",
   "id": "0efdbc79-8fc7-4316-b238-4f1ecb11ef23",
   "metadata": {},
   "source": [
    "### Discription of the data set and its data\n"
   ]
  },
  {
   "cell_type": "code",
   "execution_count": 3,
   "id": "34f58fd0-d8cf-441f-acc9-d2030635bd08",
   "metadata": {},
   "outputs": [
    {
     "name": "stdout",
     "output_type": "stream",
     "text": [
      "<class 'sklearn.utils._bunch.Bunch'>\n",
      ".. _olivetti_faces_dataset:\n",
      "\n",
      "The Olivetti faces dataset\n",
      "--------------------------\n",
      "\n",
      "`This dataset contains a set of face images`_ taken between April 1992 and \n",
      "April 1994 at AT&T Laboratories Cambridge. The\n",
      ":func:`sklearn.datasets.fetch_olivetti_faces` function is the data\n",
      "fetching / caching function that downloads the data\n",
      "archive from AT&T.\n",
      "\n",
      ".. _This dataset contains a set of face images: https://cam-orl.co.uk/facedatabase.html\n",
      "\n",
      "As described on the original website:\n",
      "\n",
      "    There are ten different images of each of 40 distinct subjects. For some\n",
      "    subjects, the images were taken at different times, varying the lighting,\n",
      "    facial expressions (open / closed eyes, smiling / not smiling) and facial\n",
      "    details (glasses / no glasses). All the images were taken against a dark\n",
      "    homogeneous background with the subjects in an upright, frontal position \n",
      "    (with tolerance for some side movement).\n",
      "\n",
      "**Data Set Characteristics:**\n",
      "\n",
      "    =================   =====================\n",
      "    Classes                                40\n",
      "    Samples total                         400\n",
      "    Dimensionality                       4096\n",
      "    Features            real, between 0 and 1\n",
      "    =================   =====================\n",
      "\n",
      "The image is quantized to 256 grey levels and stored as unsigned 8-bit \n",
      "integers; the loader will convert these to floating point values on the \n",
      "interval [0, 1], which are easier to work with for many algorithms.\n",
      "\n",
      "The \"target\" for this database is an integer from 0 to 39 indicating the\n",
      "identity of the person pictured; however, with only 10 examples per class, this\n",
      "relatively small dataset is more interesting from an unsupervised or\n",
      "semi-supervised perspective.\n",
      "\n",
      "The original dataset consisted of 92 x 112, while the version available here\n",
      "consists of 64x64 images.\n",
      "\n",
      "When using these images, please give credit to AT&T Laboratories Cambridge.\n",
      " \n",
      "-----------------------\n",
      "Type of date:  <class 'numpy.ndarray'>\n",
      "Shape of data:   (400, 4096)\n",
      "Type of target:  <class 'numpy.ndarray'>\n",
      "Shape of target:   (400,)\n",
      "Targets:  [ 0  1  2  3  4  5  6  7  8  9 10 11 12 13 14 15 16 17 18 19 20 21 22 23\n",
      " 24 25 26 27 28 29 30 31 32 33 34 35 36 37 38 39]\n",
      "the sample of the first date:  [0.30991736 0.3677686  0.41735536 ... 0.15289256 0.16115703 0.1570248 ]\n",
      "the target of the first date:  0\n"
     ]
    },
    {
     "data": {
      "text/plain": [
       "<matplotlib.image.AxesImage at 0x24f2dc66e70>"
      ]
     },
     "execution_count": 3,
     "metadata": {},
     "output_type": "execute_result"
    },
    {
     "data": {
      "image/png": "[encoded data removed]",
      "text/plain": [
       "<Figure size 640x480 with 1 Axes>"
      ]
     },
     "metadata": {},
     "output_type": "display_data"
    }
   ],
   "source": [
    "#Discription of the data set and its data\n",
    "print(type(olivetti_faces))\n",
    "print(olivetti_faces.DESCR,\"\\n-----------------------\")\n",
    "\n",
    "print(\"Type of date: \" ,type(olivetti_faces.data))\n",
    "print(\"Shape of data:  \",olivetti_faces.data.shape)\n",
    "print(\"Type of target: \" ,type(olivetti_faces.target))\n",
    "print(\"Shape of target:  \",olivetti_faces.target.shape)\n",
    "print(\"Targets: \" ,np.unique(olivetti_faces.target))\n",
    "\n",
    "print(\"the sample of the first date: \" ,olivetti_faces.data[0])\n",
    "print(\"the target of the first date: \" ,olivetti_faces.target[0])\n",
    "\n",
    "plt.imshow(olivetti_faces.images[0], cmap=plt.cm.bone, interpolation='nearest')\n"
   ]
  },
  {
   "cell_type": "code",
   "execution_count": 9,
   "id": "62ab24ad-e956-4061-b133-0d4c92e1bf3a",
   "metadata": {},
   "outputs": [],
   "source": [
    "# detrmination of samples and labels \n",
    "X=olivetti_faces.data\n",
    "y=olivetti_faces.target"
   ]
  },
  {
   "cell_type": "markdown",
   "id": "05a48d38-638c-4232-8a47-b0ad48f6d351",
   "metadata": {},
   "source": [
    "### Split to Train and Test Data"
   ]
  },
  {
   "cell_type": "code",
   "execution_count": 13,
   "id": "4e346a26-eb8a-41f7-8e7d-f4f78f919d9c",
   "metadata": {},
   "outputs": [],
   "source": [
    "#Split to Train and Test Data\n",
    "from sklearn.model_selection import train_test_split\n",
    "X_train,X_test,y_train,y_test=train_test_split(X,y,test_size=0.25,random_state=42)"
   ]
  },
  {
   "cell_type": "code",
   "execution_count": 14,
   "id": "bef2a1de-555f-46a9-9fa3-4bc68c97c45f",
   "metadata": {},
   "outputs": [
    {
     "name": "stdout",
     "output_type": "stream",
     "text": [
      "Number of training data: 300\n",
      "Number of test data: 100\n"
     ]
    }
   ],
   "source": [
    "print(\"Number of training data: %d\" % X_train.shape[0])\n",
    "print(\"Number of test data: %d\" % X_test.shape[0])"
   ]
  },
  {
   "cell_type": "markdown",
   "id": "eb81277a-cd0e-453a-8d50-d98a0e35aa58",
   "metadata": {},
   "source": [
    "### STEP 1: Import and create the estimator\n"
   ]
  },
  {
   "cell_type": "code",
   "execution_count": 15,
   "id": "01e9a238-6a3c-4348-a338-96f66b2cf670",
   "metadata": {},
   "outputs": [
    {
     "name": "stdout",
     "output_type": "stream",
     "text": [
      "Iteration 1, loss = 4.02567554\n",
      "Iteration 2, loss = 3.88942728\n",
      "Iteration 3, loss = 3.80827464\n",
      "Iteration 4, loss = 3.75359422\n",
      "Iteration 5, loss = 3.67878763\n",
      "Iteration 6, loss = 3.62890470\n",
      "Iteration 7, loss = 3.60633946\n",
      "Iteration 8, loss = 3.58209643\n",
      "Iteration 9, loss = 3.54067605\n",
      "Iteration 10, loss = 3.50272326\n",
      "Iteration 11, loss = 3.46912359\n",
      "Iteration 12, loss = 3.42335310\n",
      "Iteration 13, loss = 3.39356660\n",
      "Iteration 14, loss = 3.35513223\n",
      "Iteration 15, loss = 3.31628608\n",
      "Iteration 16, loss = 3.27556575\n",
      "Iteration 17, loss = 3.23958299\n",
      "Iteration 18, loss = 3.19331153\n",
      "Iteration 19, loss = 3.14817576\n",
      "Iteration 20, loss = 3.09629735\n",
      "Iteration 21, loss = 3.04315756\n",
      "Iteration 22, loss = 3.00190399\n",
      "Iteration 23, loss = 2.94451396\n",
      "Iteration 24, loss = 2.89325361\n",
      "Iteration 25, loss = 2.84410449\n",
      "Iteration 26, loss = 2.78666498\n",
      "Iteration 27, loss = 2.72751244\n",
      "Iteration 28, loss = 2.67052984\n",
      "Iteration 29, loss = 2.60808908\n",
      "Iteration 30, loss = 2.54124293\n",
      "Iteration 31, loss = 2.49394941\n",
      "Iteration 32, loss = 2.41610320\n",
      "Iteration 33, loss = 2.38117754\n",
      "Iteration 34, loss = 2.31386965\n",
      "Iteration 35, loss = 2.25513834\n",
      "Iteration 36, loss = 2.17241799\n",
      "Iteration 37, loss = 2.13825230\n",
      "Iteration 38, loss = 2.06962170\n",
      "Iteration 39, loss = 2.00146857\n",
      "Iteration 40, loss = 1.94846215\n",
      "Iteration 41, loss = 1.88982403\n",
      "Iteration 42, loss = 1.82277212\n",
      "Iteration 43, loss = 1.76944607\n",
      "Iteration 44, loss = 1.71038436\n",
      "Iteration 45, loss = 1.66166858\n",
      "Iteration 46, loss = 1.59410729\n",
      "Iteration 47, loss = 1.57492466\n",
      "Iteration 48, loss = 1.50004655\n",
      "Iteration 49, loss = 1.46550831\n",
      "Iteration 50, loss = 1.41048272\n",
      "Iteration 51, loss = 1.37441083\n",
      "Iteration 52, loss = 1.32933189\n",
      "Iteration 53, loss = 1.27110916\n",
      "Iteration 54, loss = 1.22865960\n",
      "Iteration 55, loss = 1.18742579\n",
      "Iteration 56, loss = 1.15426871\n",
      "Iteration 57, loss = 1.10780501\n",
      "Iteration 58, loss = 1.07383531\n",
      "Iteration 59, loss = 1.03792172\n",
      "Iteration 60, loss = 1.00507210\n",
      "Iteration 61, loss = 0.97101469\n",
      "Iteration 62, loss = 0.93747748\n",
      "Iteration 63, loss = 0.92211423\n",
      "Iteration 64, loss = 0.87800234\n",
      "Iteration 65, loss = 0.86662007\n",
      "Iteration 66, loss = 0.82284443\n",
      "Iteration 67, loss = 0.80547591\n",
      "Iteration 68, loss = 0.77289010\n",
      "Iteration 69, loss = 0.75524859\n",
      "Iteration 70, loss = 0.72634327\n",
      "Iteration 71, loss = 0.69312871\n",
      "Iteration 72, loss = 0.67520017\n",
      "Iteration 73, loss = 0.65805419\n",
      "Iteration 74, loss = 0.63904781\n",
      "Iteration 75, loss = 0.60946240\n",
      "Iteration 76, loss = 0.60833780\n",
      "Iteration 77, loss = 0.58215330\n",
      "Iteration 78, loss = 0.56693960\n",
      "Iteration 79, loss = 0.53949861\n",
      "Iteration 80, loss = 0.53238281\n",
      "Iteration 81, loss = 0.51731055\n",
      "Iteration 82, loss = 0.49603252\n",
      "Iteration 83, loss = 0.48332101\n",
      "Iteration 84, loss = 0.46682377\n",
      "Iteration 85, loss = 0.45263854\n",
      "Iteration 86, loss = 0.43435119\n",
      "Iteration 87, loss = 0.43489399\n",
      "Iteration 88, loss = 0.41516275\n",
      "Iteration 89, loss = 0.40332474\n",
      "Iteration 90, loss = 0.39046064\n",
      "Iteration 91, loss = 0.38260601\n",
      "Iteration 92, loss = 0.37133316\n",
      "Iteration 93, loss = 0.35880857\n",
      "Iteration 94, loss = 0.34852100\n",
      "Iteration 95, loss = 0.33699674\n",
      "Iteration 96, loss = 0.32853760\n",
      "Iteration 97, loss = 0.32413128\n",
      "Iteration 98, loss = 0.31530155\n",
      "Iteration 99, loss = 0.30067404\n",
      "Iteration 100, loss = 0.29883432\n",
      "Iteration 101, loss = 0.28964299\n",
      "Iteration 102, loss = 0.28100402\n",
      "Iteration 103, loss = 0.27340684\n",
      "Iteration 104, loss = 0.26873139\n",
      "Iteration 105, loss = 0.26047808\n",
      "Iteration 106, loss = 0.25244114\n",
      "Iteration 107, loss = 0.24873181\n",
      "Iteration 108, loss = 0.23882451\n",
      "Iteration 109, loss = 0.23489680\n",
      "Iteration 110, loss = 0.22515910\n",
      "Iteration 111, loss = 0.22444570\n",
      "Iteration 112, loss = 0.21515467\n",
      "Iteration 113, loss = 0.21541852\n",
      "Iteration 114, loss = 0.20945856\n",
      "Iteration 115, loss = 0.20170181\n",
      "Iteration 116, loss = 0.19414997\n",
      "Iteration 117, loss = 0.19432750\n",
      "Iteration 118, loss = 0.18851724\n",
      "Iteration 119, loss = 0.18404107\n",
      "Iteration 120, loss = 0.18174832\n",
      "Iteration 121, loss = 0.17444237\n",
      "Iteration 122, loss = 0.17235334\n",
      "Iteration 123, loss = 0.16389635\n",
      "Iteration 124, loss = 0.16399178\n",
      "Iteration 125, loss = 0.15711589\n",
      "Iteration 126, loss = 0.15362644\n",
      "Iteration 127, loss = 0.15076838\n",
      "Iteration 128, loss = 0.14633184\n",
      "Iteration 129, loss = 0.14275272\n",
      "Iteration 130, loss = 0.13755654\n",
      "Iteration 131, loss = 0.13513340\n",
      "Iteration 132, loss = 0.13319537\n",
      "Iteration 133, loss = 0.13023252\n",
      "Iteration 134, loss = 0.12801326\n",
      "Iteration 135, loss = 0.12463125\n",
      "Iteration 136, loss = 0.12442825\n",
      "Iteration 137, loss = 0.11933982\n",
      "Iteration 138, loss = 0.12038910\n",
      "Iteration 139, loss = 0.11623786\n",
      "Iteration 140, loss = 0.11389168\n",
      "Iteration 141, loss = 0.11084797\n",
      "Iteration 142, loss = 0.10894803\n",
      "Iteration 143, loss = 0.10650782\n",
      "Iteration 144, loss = 0.10485452\n",
      "Iteration 145, loss = 0.10237124\n",
      "Iteration 146, loss = 0.09991540\n",
      "Iteration 147, loss = 0.09796248\n",
      "Iteration 148, loss = 0.09661408\n",
      "Iteration 149, loss = 0.09439907\n",
      "Iteration 150, loss = 0.09295693\n",
      "Iteration 151, loss = 0.09065994\n",
      "Iteration 152, loss = 0.08876179\n",
      "Iteration 153, loss = 0.08722028\n",
      "Iteration 154, loss = 0.08674138\n",
      "Iteration 155, loss = 0.08323060\n",
      "Iteration 156, loss = 0.08457409\n",
      "Iteration 157, loss = 0.08379310\n",
      "Iteration 158, loss = 0.07942434\n",
      "Iteration 159, loss = 0.07877756\n",
      "Iteration 160, loss = 0.07761148\n",
      "Iteration 161, loss = 0.07599924\n",
      "Iteration 162, loss = 0.07356399\n",
      "Iteration 163, loss = 0.07295689\n",
      "Iteration 164, loss = 0.07156047\n",
      "Iteration 165, loss = 0.07040138\n",
      "Iteration 166, loss = 0.06890056\n",
      "Iteration 167, loss = 0.06693512\n",
      "Iteration 168, loss = 0.06716403\n",
      "Iteration 169, loss = 0.06470569\n",
      "Iteration 170, loss = 0.06440387\n",
      "Iteration 171, loss = 0.06408771\n",
      "Iteration 172, loss = 0.06259504\n",
      "Iteration 173, loss = 0.06302493\n",
      "Iteration 174, loss = 0.06003579\n",
      "Iteration 175, loss = 0.05928068\n",
      "Iteration 176, loss = 0.05915309\n",
      "Iteration 177, loss = 0.05731797\n",
      "Iteration 178, loss = 0.05743614\n",
      "Iteration 179, loss = 0.05614075\n",
      "Iteration 180, loss = 0.05647723\n",
      "Iteration 181, loss = 0.05391362\n",
      "Iteration 182, loss = 0.05359732\n",
      "Iteration 183, loss = 0.05259663\n",
      "Iteration 184, loss = 0.05203952\n",
      "Iteration 185, loss = 0.05087704\n",
      "Iteration 186, loss = 0.04962672\n",
      "Iteration 187, loss = 0.04986405\n",
      "Iteration 188, loss = 0.04817219\n",
      "Iteration 189, loss = 0.04820481\n",
      "Iteration 190, loss = 0.04764806\n",
      "Iteration 191, loss = 0.04656560\n",
      "Iteration 192, loss = 0.04568111\n",
      "Iteration 193, loss = 0.04560565\n",
      "Iteration 194, loss = 0.04473889\n",
      "Iteration 195, loss = 0.04375761\n",
      "Iteration 196, loss = 0.04351243\n",
      "Iteration 197, loss = 0.04279875\n",
      "Iteration 198, loss = 0.04173681\n",
      "Iteration 199, loss = 0.04104622\n",
      "Iteration 200, loss = 0.04056666\n",
      "Iteration 201, loss = 0.03989551\n",
      "Iteration 202, loss = 0.03943269\n",
      "Iteration 203, loss = 0.03885839\n",
      "Iteration 204, loss = 0.03879028\n",
      "Iteration 205, loss = 0.03789914\n",
      "Iteration 206, loss = 0.03773872\n",
      "Iteration 207, loss = 0.03683569\n",
      "Iteration 208, loss = 0.03628529\n",
      "Iteration 209, loss = 0.03589464\n",
      "Iteration 210, loss = 0.03551024\n",
      "Iteration 211, loss = 0.03520221\n",
      "Iteration 212, loss = 0.03476436\n",
      "Iteration 213, loss = 0.03392176\n",
      "Iteration 214, loss = 0.03364352\n",
      "Iteration 215, loss = 0.03350416\n",
      "Iteration 216, loss = 0.03277385\n",
      "Iteration 217, loss = 0.03275895\n",
      "Iteration 218, loss = 0.03184843\n",
      "Iteration 219, loss = 0.03178507\n",
      "Iteration 220, loss = 0.03136797\n",
      "Iteration 221, loss = 0.03089429\n",
      "Iteration 222, loss = 0.03047215\n",
      "Iteration 223, loss = 0.03007140\n",
      "Iteration 224, loss = 0.02967683\n",
      "Iteration 225, loss = 0.02959433\n",
      "Iteration 226, loss = 0.02909882\n",
      "Iteration 227, loss = 0.02881621\n",
      "Iteration 228, loss = 0.02809472\n",
      "Iteration 229, loss = 0.02807375\n",
      "Iteration 230, loss = 0.02779616\n",
      "Iteration 231, loss = 0.02746706\n",
      "Iteration 232, loss = 0.02717137\n",
      "Iteration 233, loss = 0.02645119\n",
      "Iteration 234, loss = 0.02672181\n",
      "Iteration 235, loss = 0.02614052\n",
      "Iteration 236, loss = 0.02574601\n",
      "Iteration 237, loss = 0.02553866\n",
      "Iteration 238, loss = 0.02510797\n",
      "Iteration 239, loss = 0.02479250\n",
      "Iteration 240, loss = 0.02477657\n",
      "Iteration 241, loss = 0.02436764\n",
      "Iteration 242, loss = 0.02408922\n",
      "Iteration 243, loss = 0.02359276\n",
      "Iteration 244, loss = 0.02370365\n",
      "Iteration 245, loss = 0.02345728\n",
      "Iteration 246, loss = 0.02295336\n",
      "Iteration 247, loss = 0.02290329\n",
      "Iteration 248, loss = 0.02251862\n",
      "Iteration 249, loss = 0.02241855\n",
      "Iteration 250, loss = 0.02195824\n",
      "Iteration 251, loss = 0.02192435\n",
      "Iteration 252, loss = 0.02181558\n",
      "Iteration 253, loss = 0.02127332\n",
      "Iteration 254, loss = 0.02105600\n",
      "Iteration 255, loss = 0.02078850\n",
      "Iteration 256, loss = 0.02073463\n",
      "Iteration 257, loss = 0.02048874\n",
      "Iteration 258, loss = 0.02024921\n",
      "Iteration 259, loss = 0.02001595\n",
      "Iteration 260, loss = 0.01982932\n",
      "Iteration 261, loss = 0.01962689\n",
      "Iteration 262, loss = 0.01946595\n",
      "Iteration 263, loss = 0.01927392\n",
      "Iteration 264, loss = 0.01910118\n",
      "Iteration 265, loss = 0.01889089\n",
      "Iteration 266, loss = 0.01869883\n",
      "Iteration 267, loss = 0.01851014\n",
      "Iteration 268, loss = 0.01834320\n",
      "Iteration 269, loss = 0.01812640\n",
      "Iteration 270, loss = 0.01798705\n",
      "Iteration 271, loss = 0.01785585\n",
      "Iteration 272, loss = 0.01763832\n",
      "Iteration 273, loss = 0.01748039\n",
      "Iteration 274, loss = 0.01736706\n",
      "Iteration 275, loss = 0.01717607\n",
      "Iteration 276, loss = 0.01700596\n",
      "Iteration 277, loss = 0.01694240\n",
      "Iteration 278, loss = 0.01675105\n",
      "Iteration 279, loss = 0.01655666\n",
      "Iteration 280, loss = 0.01630042\n",
      "Iteration 281, loss = 0.01614547\n",
      "Iteration 282, loss = 0.01604000\n",
      "Iteration 283, loss = 0.01594574\n",
      "Iteration 284, loss = 0.01577782\n",
      "Iteration 285, loss = 0.01562232\n",
      "Iteration 286, loss = 0.01562203\n",
      "Iteration 287, loss = 0.01538347\n",
      "Iteration 288, loss = 0.01528728\n",
      "Iteration 289, loss = 0.01521162\n",
      "Iteration 290, loss = 0.01495626\n",
      "Iteration 291, loss = 0.01499364\n",
      "Iteration 292, loss = 0.01479413\n",
      "Iteration 293, loss = 0.01464932\n",
      "Iteration 294, loss = 0.01451106\n",
      "Iteration 295, loss = 0.01424196\n",
      "Iteration 296, loss = 0.01424557\n",
      "Iteration 297, loss = 0.01410272\n",
      "Iteration 298, loss = 0.01388573\n",
      "Iteration 299, loss = 0.01385824\n",
      "Iteration 300, loss = 0.01377097\n"
     ]
    },
    {
     "name": "stderr",
     "output_type": "stream",
     "text": [
      "C:\\Users\\mobin\\AppData\\Local\\Programs\\Python\\Python312\\Lib\\site-packages\\sklearn\\neural_network\\_multilayer_perceptron.py:691: ConvergenceWarning: Stochastic Optimizer: Maximum iterations (300) reached and the optimization hasn't converged yet.\n",
      "  warnings.warn(\n"
     ]
    }
   ],
   "source": [
    "from sklearn.neural_network import MLPClassifier\n",
    "clf = MLPClassifier(hidden_layer_sizes=(100, 100), verbose=True, max_iter=300)\n"
   ]
  },
  {
   "cell_type": "markdown",
   "id": "4a571df0-a55c-49ce-921f-53902f4d0dc6",
   "metadata": {},
   "source": [
    "### STEP 2: Train on the dataset (`fit`)"
   ]
  },
  {
   "cell_type": "code",
   "execution_count": null,
   "id": "22a2d20e-ab4c-49ac-98da-9100dfc086c9",
   "metadata": {},
   "outputs": [],
   "source": [
    "clf.fit(X_train, y_train)\n"
   ]
  },
  {
   "cell_type": "markdown",
   "id": "a7e98d9f-e13b-4e95-b2d5-b5d54905e479",
   "metadata": {},
   "source": [
    "### STEP 3: Predict for new data"
   ]
  },
  {
   "cell_type": "code",
   "execution_count": null,
   "id": "472d70d2-4b42-48e4-a47b-db36da2a2605",
   "metadata": {},
   "outputs": [],
   "source": [
    "y_pred = clf.predict(X_test)"
   ]
  },
  {
   "cell_type": "markdown",
   "id": "0c12f6f7-b4ac-4aea-8f04-5d22ad148a5e",
   "metadata": {},
   "source": [
    "### STEP 4: Evaluate (here, the accuracy)\n",
    "1- Using mean for accuracy\n",
    "2- Using `metrics` module in `sklearn`"
   ]
  },
  {
   "cell_type": "code",
   "execution_count": 16,
   "id": "0045d0ae-2f64-4f33-b596-02eea9b87df5",
   "metadata": {},
   "outputs": [
    {
     "name": "stdout",
     "output_type": "stream",
     "text": [
      "accuracy = 0.90 \n",
      "-----------------\n",
      "accuray = 0.90\n"
     ]
    }
   ],
   "source": [
    "print(\"accuracy = %.2f\" %np.mean(y_pred == y_test),\"\\n-----------------\")\n",
    "\n",
    "from sklearn.metrics import accuracy_score\n",
    "print(\"accuray = %.2f\" % accuracy_score(y_test, y_pred))"
   ]
  },
  {
   "cell_type": "markdown",
   "id": "41afd247-ba61-46e2-a6eb-90fea4b56542",
   "metadata": {},
   "source": [
    "## Classifying Digits"
   ]
  },
  {
   "cell_type": "code",
   "execution_count": 20,
   "id": "bbfb0d9c-a931-499f-b6f5-ee32bd426473",
   "metadata": {},
   "outputs": [],
   "source": [
    "#load Dtat Set from Sckit learn\n",
    "from sklearn.datasets import load_digits\n",
    "digits=load_digits()"
   ]
  },
  {
   "cell_type": "markdown",
   "id": "35c13939-c21c-49da-99a3-844aba7c905a",
   "metadata": {},
   "source": [
    "### Description of Data"
   ]
  },
  {
   "cell_type": "code",
   "execution_count": 28,
   "id": "bb346f24-7102-4568-9e54-57fdd0f99423",
   "metadata": {},
   "outputs": [
    {
     "name": "stdout",
     "output_type": "stream",
     "text": [
      "type of dataset: <class 'sklearn.utils._bunch.Bunch'>\n",
      "type of its data: <class 'numpy.ndarray'>\n",
      "shape of data: (1797, 64)\n",
      "shape of target: (1797,)\n",
      "----------------------\n",
      " .. _digits_dataset:\n",
      "\n",
      "Optical recognition of handwritten digits dataset\n",
      "--------------------------------------------------\n",
      "\n",
      "**Data Set Characteristics:**\n",
      "\n",
      "    :Number of Instances: 1797\n",
      "    :Number of Attributes: 64\n",
      "    :Attribute Information: 8x8 image of integer pixels in the range 0..16.\n",
      "    :Missing Attribute Values: None\n",
      "    :Creator: E. Alpaydin (alpaydin '@' boun.edu.tr)\n",
      "    :Date: July; 1998\n",
      "\n",
      "This is a copy of the test set of the UCI ML hand-written digits datasets\n",
      "https://archive.ics.uci.edu/ml/datasets/Optical+Recognition+of+Handwritten+Digits\n",
      "\n",
      "The data set contains images of hand-written digits: 10 classes where\n",
      "each class refers to a digit.\n",
      "\n",
      "Preprocessing programs made available by NIST were used to extract\n",
      "normalized bitmaps of handwritten digits from a preprinted form. From a\n",
      "total of 43 people, 30 contributed to the training set and different 13\n",
      "to the test set. 32x32 bitmaps are divided into nonoverlapping blocks of\n",
      "4x4 and the number of on pixels are counted in each block. This generates\n",
      "an input matrix of 8x8 where each element is an integer in the range\n",
      "0..16. This reduces dimensionality and gives invariance to small\n",
      "distortions.\n",
      "\n",
      "For info on NIST preprocessing routines, see M. D. Garris, J. L. Blue, G.\n",
      "T. Candela, D. L. Dimmick, J. Geist, P. J. Grother, S. A. Janet, and C.\n",
      "L. Wilson, NIST Form-Based Handprint Recognition System, NISTIR 5469,\n",
      "1994.\n",
      "\n",
      "|details-start|\n",
      "**References**\n",
      "|details-split|\n",
      "\n",
      "- C. Kaynak (1995) Methods of Combining Multiple Classifiers and Their\n",
      "  Applications to Handwritten Digit Recognition, MSc Thesis, Institute of\n",
      "  Graduate Studies in Science and Engineering, Bogazici University.\n",
      "- E. Alpaydin, C. Kaynak (1998) Cascading Classifiers, Kybernetika.\n",
      "- Ken Tang and Ponnuthurai N. Suganthan and Xi Yao and A. Kai Qin.\n",
      "  Linear dimensionalityreduction using relevance weighted LDA. School of\n",
      "  Electrical and Electronic Engineering Nanyang Technological University.\n",
      "  2005.\n",
      "- Claudio Gentile. A New Approximate Maximal Margin Classification\n",
      "  Algorithm. NIPS. 2000.\n",
      "\n",
      "|details-end|\n"
     ]
    }
   ],
   "source": [
    "print(\"type of dataset:\",type(digits))\n",
    "print(\"type of its data:\",type(digits.data))\n",
    "print(\"shape of data:\",digits.data.shape)\n",
    "print(\"shape of target:\", digits.target.shape)\n",
    "print(\"----------------------\\n\", digits.DESCR)\n"
   ]
  },
  {
   "cell_type": "markdown",
   "id": "33ee2659-c652-40b1-8aca-a97322e0f7da",
   "metadata": {},
   "source": [
    "### Split data and label to Test and Train"
   ]
  },
  {
   "cell_type": "code",
   "execution_count": 29,
   "id": "f409772e-b9b1-4447-9928-2f5e35f75d82",
   "metadata": {},
   "outputs": [],
   "source": [
    "X= digits.data\n",
    "y=digits.target"
   ]
  },
  {
   "cell_type": "code",
   "execution_count": 32,
   "id": "2dfd5c0b-c3f2-418d-b436-65e9bbd1aa13",
   "metadata": {},
   "outputs": [],
   "source": [
    "from sklearn.model_selection import train_test_split\n",
    "X_train,X_test,y_train,y_test=train_test_split(X,y,test_size=0.25, random_state=42)"
   ]
  },
  {
   "cell_type": "code",
   "execution_count": 33,
   "id": "8321e7e1-b963-4bcc-b95c-a0e6a04bc9fb",
   "metadata": {},
   "outputs": [
    {
     "name": "stdout",
     "output_type": "stream",
     "text": [
      "shape of train data: (1347, 64)\n",
      "shape of test data: (450, 64)\n"
     ]
    }
   ],
   "source": [
    "print(\"shape of train data:\", X_train.shape)\n",
    "print(\"shape of test data:\", X_test.shape)"
   ]
  },
  {
   "cell_type": "markdown",
   "id": "342add8f-a3c9-42b0-8290-1bf475a5bd0b",
   "metadata": {},
   "source": [
    "### STEP 1: Import and create the estimator\n"
   ]
  },
  {
   "cell_type": "code",
   "execution_count": 34,
   "id": "f37fd5f8-421f-4b43-9701-a3aa0397469d",
   "metadata": {},
   "outputs": [],
   "source": [
    "from sklearn.neural_network import MLPClassifier\n",
    "cls1=MLPClassifier(hidden_layer_sizes=(100,100),verbose=True,max_iter=300)\n"
   ]
  },
  {
   "cell_type": "markdown",
   "id": "5c365115-9d0d-4038-8820-7d9153088734",
   "metadata": {},
   "source": [
    "### STEP 2: Train on the dataset (`fit`)"
   ]
  },
  {
   "cell_type": "code",
   "execution_count": 48,
   "id": "92149301-34c6-47b1-a6cc-1bfb5fa8c55d",
   "metadata": {},
   "outputs": [
    {
     "name": "stdout",
     "output_type": "stream",
     "text": [
      "Iteration 1, loss = 4.34886100\n",
      "Iteration 2, loss = 1.62785872\n",
      "Iteration 3, loss = 0.85382976\n",
      "Iteration 4, loss = 0.53137809\n",
      "Iteration 5, loss = 0.37522797\n",
      "Iteration 6, loss = 0.27737610\n",
      "Iteration 7, loss = 0.22049115\n",
      "Iteration 8, loss = 0.17823561\n",
      "Iteration 9, loss = 0.15045148\n",
      "Iteration 10, loss = 0.12934928\n",
      "Iteration 11, loss = 0.11210771\n",
      "Iteration 12, loss = 0.09797879\n",
      "Iteration 13, loss = 0.08726153\n",
      "Iteration 14, loss = 0.07762018\n",
      "Iteration 15, loss = 0.07043860\n",
      "Iteration 16, loss = 0.06399061\n",
      "Iteration 17, loss = 0.05709762\n",
      "Iteration 18, loss = 0.05273445\n",
      "Iteration 19, loss = 0.04747582\n",
      "Iteration 20, loss = 0.04337248\n",
      "Iteration 21, loss = 0.03950408\n",
      "Iteration 22, loss = 0.03609271\n",
      "Iteration 23, loss = 0.03305171\n",
      "Iteration 24, loss = 0.03067405\n",
      "Iteration 25, loss = 0.02759431\n",
      "Iteration 26, loss = 0.02534572\n",
      "Iteration 27, loss = 0.02323608\n",
      "Iteration 28, loss = 0.02156806\n",
      "Iteration 29, loss = 0.01967521\n",
      "Iteration 30, loss = 0.01815866\n",
      "Iteration 31, loss = 0.01682266\n",
      "Iteration 32, loss = 0.01567708\n",
      "Iteration 33, loss = 0.01433520\n",
      "Iteration 34, loss = 0.01337615\n",
      "Iteration 35, loss = 0.01273626\n",
      "Iteration 36, loss = 0.01172217\n",
      "Iteration 37, loss = 0.01134505\n",
      "Iteration 38, loss = 0.01042872\n",
      "Iteration 39, loss = 0.00996257\n",
      "Iteration 40, loss = 0.00923547\n",
      "Iteration 41, loss = 0.00868863\n",
      "Iteration 42, loss = 0.00837998\n",
      "Iteration 43, loss = 0.00795646\n",
      "Iteration 44, loss = 0.00775804\n",
      "Iteration 45, loss = 0.00705516\n",
      "Iteration 46, loss = 0.00679301\n",
      "Iteration 47, loss = 0.00646257\n",
      "Iteration 48, loss = 0.00605745\n",
      "Iteration 49, loss = 0.00574527\n",
      "Iteration 50, loss = 0.00549794\n",
      "Iteration 51, loss = 0.00540619\n",
      "Iteration 52, loss = 0.00515809\n",
      "Iteration 53, loss = 0.00487641\n",
      "Iteration 54, loss = 0.00459304\n",
      "Iteration 55, loss = 0.00444857\n",
      "Iteration 56, loss = 0.00427018\n",
      "Iteration 57, loss = 0.00404842\n",
      "Iteration 58, loss = 0.00390507\n",
      "Iteration 59, loss = 0.00372488\n",
      "Iteration 60, loss = 0.00360833\n",
      "Iteration 61, loss = 0.00347627\n",
      "Iteration 62, loss = 0.00335184\n",
      "Iteration 63, loss = 0.00320428\n",
      "Iteration 64, loss = 0.00309272\n",
      "Iteration 65, loss = 0.00299320\n",
      "Iteration 66, loss = 0.00289597\n",
      "Iteration 67, loss = 0.00281383\n",
      "Iteration 68, loss = 0.00270402\n",
      "Iteration 69, loss = 0.00265396\n",
      "Iteration 70, loss = 0.00256865\n",
      "Iteration 71, loss = 0.00248206\n",
      "Iteration 72, loss = 0.00239793\n",
      "Iteration 73, loss = 0.00232007\n",
      "Iteration 74, loss = 0.00226600\n",
      "Iteration 75, loss = 0.00221052\n",
      "Iteration 76, loss = 0.00213125\n",
      "Iteration 77, loss = 0.00207078\n",
      "Iteration 78, loss = 0.00200912\n",
      "Iteration 79, loss = 0.00195183\n",
      "Training loss did not improve more than tol=0.000100 for 10 consecutive epochs. Stopping.\n"
     ]
    },
    {
     "data": {
      "text/html": [
       "<style>#sk-container-id-2 {color: black;}#sk-container-id-2 pre{padding: 0;}#sk-container-id-2 div.sk-toggleable {background-color: white;}#sk-container-id-2 label.sk-toggleable__label {cursor: pointer;display: block;width: 100%;margin-bottom: 0;padding: 0.3em;box-sizing: border-box;text-align: center;}#sk-container-id-2 label.sk-toggleable__label-arrow:before {content: \"▸\";float: left;margin-right: 0.25em;color: #696969;}#sk-container-id-2 label.sk-toggleable__label-arrow:hover:before {color: black;}#sk-container-id-2 div.sk-estimator:hover label.sk-toggleable__label-arrow:before {color: black;}#sk-container-id-2 div.sk-toggleable__content {max-height: 0;max-width: 0;overflow: hidden;text-align: left;background-color: #f0f8ff;}#sk-container-id-2 div.sk-toggleable__content pre {margin: 0.2em;color: black;border-radius: 0.25em;background-color: #f0f8ff;}#sk-container-id-2 input.sk-toggleable__control:checked~div.sk-toggleable__content {max-height: 200px;max-width: 100%;overflow: auto;}#sk-container-id-2 input.sk-toggleable__control:checked~label.sk-toggleable__label-arrow:before {content: \"▾\";}#sk-container-id-2 div.sk-estimator input.sk-toggleable__control:checked~label.sk-toggleable__label {background-color: #d4ebff;}#sk-container-id-2 div.sk-label input.sk-toggleable__control:checked~label.sk-toggleable__label {background-color: #d4ebff;}#sk-container-id-2 input.sk-hidden--visually {border: 0;clip: rect(1px 1px 1px 1px);clip: rect(1px, 1px, 1px, 1px);height: 1px;margin: -1px;overflow: hidden;padding: 0;position: absolute;width: 1px;}#sk-container-id-2 div.sk-estimator {font-family: monospace;background-color: #f0f8ff;border: 1px dotted black;border-radius: 0.25em;box-sizing: border-box;margin-bottom: 0.5em;}#sk-container-id-2 div.sk-estimator:hover {background-color: #d4ebff;}#sk-container-id-2 div.sk-parallel-item::after {content: \"\";width: 100%;border-bottom: 1px solid gray;flex-grow: 1;}#sk-container-id-2 div.sk-label:hover label.sk-toggleable__label {background-color: #d4ebff;}#sk-container-id-2 div.sk-serial::before {content: \"\";position: absolute;border-left: 1px solid gray;box-sizing: border-box;top: 0;bottom: 0;left: 50%;z-index: 0;}#sk-container-id-2 div.sk-serial {display: flex;flex-direction: column;align-items: center;background-color: white;padding-right: 0.2em;padding-left: 0.2em;position: relative;}#sk-container-id-2 div.sk-item {position: relative;z-index: 1;}#sk-container-id-2 div.sk-parallel {display: flex;align-items: stretch;justify-content: center;background-color: white;position: relative;}#sk-container-id-2 div.sk-item::before, #sk-container-id-2 div.sk-parallel-item::before {content: \"\";position: absolute;border-left: 1px solid gray;box-sizing: border-box;top: 0;bottom: 0;left: 50%;z-index: -1;}#sk-container-id-2 div.sk-parallel-item {display: flex;flex-direction: column;z-index: 1;position: relative;background-color: white;}#sk-container-id-2 div.sk-parallel-item:first-child::after {align-self: flex-end;width: 50%;}#sk-container-id-2 div.sk-parallel-item:last-child::after {align-self: flex-start;width: 50%;}#sk-container-id-2 div.sk-parallel-item:only-child::after {width: 0;}#sk-container-id-2 div.sk-dashed-wrapped {border: 1px dashed gray;margin: 0 0.4em 0.5em 0.4em;box-sizing: border-box;padding-bottom: 0.4em;background-color: white;}#sk-container-id-2 div.sk-label label {font-family: monospace;font-weight: bold;display: inline-block;line-height: 1.2em;}#sk-container-id-2 div.sk-label-container {text-align: center;}#sk-container-id-2 div.sk-container {/* jupyter's `normalize.less` sets `[hidden] { display: none; }` but bootstrap.min.css set `[hidden] { display: none !important; }` so we also need the `!important` here to be able to override the default hidden behavior on the sphinx rendered scikit-learn.org. See: https://github.com/scikit-learn/scikit-learn/issues/21755 */display: inline-block !important;position: relative;}#sk-container-id-2 div.sk-text-repr-fallback {display: none;}</style><div id=\"sk-container-id-2\" class=\"sk-top-container\"><div class=\"sk-text-repr-fallback\"><pre>MLPClassifier(hidden_layer_sizes=(100, 100), max_iter=300, verbose=True)</pre><b>In a Jupyter environment, please rerun this cell to show the HTML representation or trust the notebook. <br />On GitHub, the HTML representation is unable to render, please try loading this page with nbviewer.org.</b></div><div class=\"sk-container\" hidden><div class=\"sk-item\"><div class=\"sk-estimator sk-toggleable\"><input class=\"sk-toggleable__control sk-hidden--visually\" id=\"sk-estimator-id-2\" type=\"checkbox\" checked><label for=\"sk-estimator-id-2\" class=\"sk-toggleable__label sk-toggleable__label-arrow\">MLPClassifier</label><div class=\"sk-toggleable__content\"><pre>MLPClassifier(hidden_layer_sizes=(100, 100), max_iter=300, verbose=True)</pre></div></div></div></div></div>"
      ],
      "text/plain": [
       "MLPClassifier(hidden_layer_sizes=(100, 100), max_iter=300, verbose=True)"
      ]
     },
     "execution_count": 48,
     "metadata": {},
     "output_type": "execute_result"
    }
   ],
   "source": [
    "cls1.fit(X_train,y_train)\n"
   ]
  },
  {
   "cell_type": "markdown",
   "id": "48cf5d92-ee57-4126-9c4e-6d45c277e9fb",
   "metadata": {},
   "source": [
    "### STEP 3: Predict for new data"
   ]
  },
  {
   "cell_type": "code",
   "execution_count": 55,
   "id": "5e7638c0-b2dd-415b-b1b3-013470586501",
   "metadata": {},
   "outputs": [],
   "source": [
    "y_predic=cls1.predict(X_test)"
   ]
  },
  {
   "cell_type": "markdown",
   "id": "4dd59b89-0c5f-484a-9b10-86b57833c16d",
   "metadata": {},
   "source": [
    "### STEP 4: Evaluate (here, the accuracy)\n",
    "\n",
    "1- accuracy_score\n",
    "2- confusion_matrix"
   ]
  },
  {
   "cell_type": "code",
   "execution_count": 56,
   "id": "0832ad87-b407-41df-8db1-df23623691a8",
   "metadata": {},
   "outputs": [
    {
     "name": "stdout",
     "output_type": "stream",
     "text": [
      "accuracy is: 0.98\n"
     ]
    }
   ],
   "source": [
    "from sklearn.metrics import accuracy_score\n",
    "\n",
    "print(\"accuracy is:\", accuracy_score(y_test,y_predic))"
   ]
  },
  {
   "cell_type": "code",
   "execution_count": 58,
   "id": "333f12f7-171f-49e6-9c06-e5a7c4caf962",
   "metadata": {},
   "outputs": [],
   "source": [
    "from sklearn.metrics import confusion_matrix\n",
    "cm= confusion_matrix(y_test,y_predic,labels=digits.target_names)"
   ]
  },
  {
   "cell_type": "code",
   "execution_count": 59,
   "id": "1c9dc7da-04d1-4bfb-9d63-839f8a0ac037",
   "metadata": {},
   "outputs": [
    {
     "name": "stdout",
     "output_type": "stream",
     "text": [
      "[[43  0  0  0  0  0  0  0  0  0]\n",
      " [ 0 36  0  0  0  0  0  0  1  0]\n",
      " [ 0  0 38  0  0  0  0  0  0  0]\n",
      " [ 0  0  1 44  0  1  0  0  0  0]\n",
      " [ 0  0  0  0 55  0  0  0  0  0]\n",
      " [ 0  0  0  0  0 57  1  0  0  1]\n",
      " [ 0  0  0  0  0  1 44  0  0  0]\n",
      " [ 0  0  0  0  0  0  0 41  0  0]\n",
      " [ 0  0  0  0  0  1  0  0 36  1]\n",
      " [ 0  0  0  0  0  0  0  0  1 47]]\n"
     ]
    }
   ],
   "source": [
    "print(cm)"
   ]
  },
  {
   "cell_type": "code",
   "execution_count": 67,
   "id": "223f2c1e-ef8d-4ad6-a73f-43ca3e1f857a",
   "metadata": {},
   "outputs": [
    {
     "data": {
      "image/png": "[encoded data removed]",
      "text/plain": [
       "<Figure size 800x800 with 2 Axes>"
      ]
     },
     "metadata": {},
     "output_type": "display_data"
    }
   ],
   "source": [
    "plt.figure(figsize=(8,8))\n",
    "plt.imshow(cm, cmap=plt.cm.Accent, interpolation='nearest')\n",
    "plt.xticks(range(10))\n",
    "plt.yticks(range(10))\n",
    "plt.colorbar()\n",
    "plt.show()"
   ]
  },
  {
   "cell_type": "markdown",
   "id": "bf1e4552-d678-43e1-ae4a-f35194221328",
   "metadata": {},
   "source": [
    "<div class=\"alert alert-success\">\n",
    "    <b>Training a Neural Network for CIFAR-10 dataset</b>:\n",
    "     <ul>\n",
    "      <li>\n",
    "      By changing the parameters of the MLPClassifier(), try to find the best neural network to classify CIFAR-10 dataset. Use the code from the previous week, to load CIFAR-10 dataset.\n",
    "      </li>\n",
    "    </ul>\n",
    "</div>"
   ]
  },
  {
   "cell_type": "code",
   "execution_count": 2,
   "id": "479160c0-3c97-4ece-98a7-bc79be99b5a6",
   "metadata": {},
   "outputs": [],
   "source": [
    "import os\n",
    "import pickle"
   ]
  },
  {
   "cell_type": "code",
   "execution_count": 3,
   "id": "419bc2af-43a3-4582-a1a3-7adc12084c24",
   "metadata": {},
   "outputs": [],
   "source": [
    "f=open('data_batch_1','rb')\n",
    "data_set=pickle.load(f,encoding='bytes')"
   ]
  },
  {
   "cell_type": "code",
   "execution_count": 4,
   "id": "3592363d-6acb-4618-803e-b0280a8cd71f",
   "metadata": {},
   "outputs": [
    {
     "name": "stdout",
     "output_type": "stream",
     "text": [
      "<class 'dict'>\n",
      "dict_keys([b'batch_label', b'labels', b'data', b'filenames'])\n",
      "<class 'numpy.ndarray'>\n",
      "(10000, 3072)\n",
      "<class 'list'>\n",
      "10000\n",
      "<class 'bytes'>\n"
     ]
    }
   ],
   "source": [
    "print(type(data_set))\n",
    "print(data_set.keys())\n",
    "print(type(data_set[b'data']))\n",
    "print(data_set[b'data'].shape)\n",
    "print(type(data_set[b'labels']))\n",
    "print(len(data_set[b'labels']))\n",
    "print(type(data_set[b'batch_label']))\n"
   ]
  },
  {
   "cell_type": "markdown",
   "id": "7212615e-b39e-46e7-ac18-46e37e673f20",
   "metadata": {},
   "source": [
    "### Load dataset and split it to Train and Test"
   ]
  },
  {
   "cell_type": "code",
   "execution_count": 5,
   "id": "42679aec-ec63-47cc-b049-5bbb3a727fff",
   "metadata": {},
   "outputs": [],
   "source": [
    "for i in range(1,6):\n",
    "    f=open('data_batch_'+str(i),'rb')\n",
    "    data_set=pickle.load(f,encoding='bytes')\n",
    "    X=data_set[b'data']\n",
    "    y=data_set[b'labels']\n",
    "    if i==1 :\n",
    "        X_train=X.astype('float')\n",
    "        y_train=np.array(y)\n",
    "    else:\n",
    "        X_train=np.vstack((X_train,(X.astype('float'))))\n",
    "        y_train=np.hstack((y_train,np.array(y)))\n",
    "\n",
    "f=open('test_batch','rb')\n",
    "data_set=pickle.load(f,encoding='bytes')\n",
    "X=data_set[b'data']\n",
    "y=data_set[b'labels']\n",
    "X_test=X.astype('float')\n",
    "y_test=np.array(y)"
   ]
  },
  {
   "cell_type": "markdown",
   "id": "2281803e-2b85-4132-b7d6-200cdab01a57",
   "metadata": {},
   "source": [
    "### discription of sample and label"
   ]
  },
  {
   "cell_type": "code",
   "execution_count": 6,
   "id": "0715cc3a-010a-44a3-a49a-ea1e60d3d700",
   "metadata": {},
   "outputs": [
    {
     "name": "stdout",
     "output_type": "stream",
     "text": [
      "shap of the train samples: (50000, 3072)\n",
      "shape of the train label (50000,)\n",
      "shap of the test samples: (10000, 3072)\n",
      "shape of the test label (10000,)\n"
     ]
    }
   ],
   "source": [
    "print(\"shap of the train samples:\",X_train.shape)\n",
    "print(\"shape of the train label\", y_train.shape)\n",
    "print(\"shap of the test samples:\",X_test.shape)\n",
    "print(\"shape of the test label\", y_test.shape)"
   ]
  },
  {
   "cell_type": "markdown",
   "id": "5fae1b6f-e6b5-4506-ba48-b7b6a2d230ca",
   "metadata": {},
   "source": [
    "### Select Estimator"
   ]
  },
  {
   "cell_type": "code",
   "execution_count": 73,
   "id": "2d6af11b-8387-4ecc-8172-ae80bda99823",
   "metadata": {},
   "outputs": [],
   "source": [
    "from sklearn.neural_network import MLPClassifier\n",
    "clf=MLPClassifier(hidden_layer_sizes=(50,50),random_state=12,verbose=False,max_iter=100,alpha=0.008)"
   ]
  },
  {
   "cell_type": "markdown",
   "id": "ed8bbdce-89cf-4799-9256-dec1750f93be",
   "metadata": {},
   "source": [
    "### Training and Fiting"
   ]
  },
  {
   "cell_type": "code",
   "execution_count": 74,
   "id": "414d954c-ccc5-4fa6-8612-43a93397c76f",
   "metadata": {},
   "outputs": [
    {
     "data": {
      "text/html": [
       "<style>#sk-container-id-5 {color: black;}#sk-container-id-5 pre{padding: 0;}#sk-container-id-5 div.sk-toggleable {background-color: white;}#sk-container-id-5 label.sk-toggleable__label {cursor: pointer;display: block;width: 100%;margin-bottom: 0;padding: 0.3em;box-sizing: border-box;text-align: center;}#sk-container-id-5 label.sk-toggleable__label-arrow:before {content: \"▸\";float: left;margin-right: 0.25em;color: #696969;}#sk-container-id-5 label.sk-toggleable__label-arrow:hover:before {color: black;}#sk-container-id-5 div.sk-estimator:hover label.sk-toggleable__label-arrow:before {color: black;}#sk-container-id-5 div.sk-toggleable__content {max-height: 0;max-width: 0;overflow: hidden;text-align: left;background-color: #f0f8ff;}#sk-container-id-5 div.sk-toggleable__content pre {margin: 0.2em;color: black;border-radius: 0.25em;background-color: #f0f8ff;}#sk-container-id-5 input.sk-toggleable__control:checked~div.sk-toggleable__content {max-height: 200px;max-width: 100%;overflow: auto;}#sk-container-id-5 input.sk-toggleable__control:checked~label.sk-toggleable__label-arrow:before {content: \"▾\";}#sk-container-id-5 div.sk-estimator input.sk-toggleable__control:checked~label.sk-toggleable__label {background-color: #d4ebff;}#sk-container-id-5 div.sk-label input.sk-toggleable__control:checked~label.sk-toggleable__label {background-color: #d4ebff;}#sk-container-id-5 input.sk-hidden--visually {border: 0;clip: rect(1px 1px 1px 1px);clip: rect(1px, 1px, 1px, 1px);height: 1px;margin: -1px;overflow: hidden;padding: 0;position: absolute;width: 1px;}#sk-container-id-5 div.sk-estimator {font-family: monospace;background-color: #f0f8ff;border: 1px dotted black;border-radius: 0.25em;box-sizing: border-box;margin-bottom: 0.5em;}#sk-container-id-5 div.sk-estimator:hover {background-color: #d4ebff;}#sk-container-id-5 div.sk-parallel-item::after {content: \"\";width: 100%;border-bottom: 1px solid gray;flex-grow: 1;}#sk-container-id-5 div.sk-label:hover label.sk-toggleable__label {background-color: #d4ebff;}#sk-container-id-5 div.sk-serial::before {content: \"\";position: absolute;border-left: 1px solid gray;box-sizing: border-box;top: 0;bottom: 0;left: 50%;z-index: 0;}#sk-container-id-5 div.sk-serial {display: flex;flex-direction: column;align-items: center;background-color: white;padding-right: 0.2em;padding-left: 0.2em;position: relative;}#sk-container-id-5 div.sk-item {position: relative;z-index: 1;}#sk-container-id-5 div.sk-parallel {display: flex;align-items: stretch;justify-content: center;background-color: white;position: relative;}#sk-container-id-5 div.sk-item::before, #sk-container-id-5 div.sk-parallel-item::before {content: \"\";position: absolute;border-left: 1px solid gray;box-sizing: border-box;top: 0;bottom: 0;left: 50%;z-index: -1;}#sk-container-id-5 div.sk-parallel-item {display: flex;flex-direction: column;z-index: 1;position: relative;background-color: white;}#sk-container-id-5 div.sk-parallel-item:first-child::after {align-self: flex-end;width: 50%;}#sk-container-id-5 div.sk-parallel-item:last-child::after {align-self: flex-start;width: 50%;}#sk-container-id-5 div.sk-parallel-item:only-child::after {width: 0;}#sk-container-id-5 div.sk-dashed-wrapped {border: 1px dashed gray;margin: 0 0.4em 0.5em 0.4em;box-sizing: border-box;padding-bottom: 0.4em;background-color: white;}#sk-container-id-5 div.sk-label label {font-family: monospace;font-weight: bold;display: inline-block;line-height: 1.2em;}#sk-container-id-5 div.sk-label-container {text-align: center;}#sk-container-id-5 div.sk-container {/* jupyter's `normalize.less` sets `[hidden] { display: none; }` but bootstrap.min.css set `[hidden] { display: none !important; }` so we also need the `!important` here to be able to override the default hidden behavior on the sphinx rendered scikit-learn.org. See: https://github.com/scikit-learn/scikit-learn/issues/21755 */display: inline-block !important;position: relative;}#sk-container-id-5 div.sk-text-repr-fallback {display: none;}</style><div id=\"sk-container-id-5\" class=\"sk-top-container\"><div class=\"sk-text-repr-fallback\"><pre>MLPClassifier(alpha=0.008, hidden_layer_sizes=(50, 50), max_iter=100,\n",
       "              random_state=12)</pre><b>In a Jupyter environment, please rerun this cell to show the HTML representation or trust the notebook. <br />On GitHub, the HTML representation is unable to render, please try loading this page with nbviewer.org.</b></div><div class=\"sk-container\" hidden><div class=\"sk-item\"><div class=\"sk-estimator sk-toggleable\"><input class=\"sk-toggleable__control sk-hidden--visually\" id=\"sk-estimator-id-5\" type=\"checkbox\" checked><label for=\"sk-estimator-id-5\" class=\"sk-toggleable__label sk-toggleable__label-arrow\">MLPClassifier</label><div class=\"sk-toggleable__content\"><pre>MLPClassifier(alpha=0.008, hidden_layer_sizes=(50, 50), max_iter=100,\n",
       "              random_state=12)</pre></div></div></div></div></div>"
      ],
      "text/plain": [
       "MLPClassifier(alpha=0.008, hidden_layer_sizes=(50, 50), max_iter=100,\n",
       "              random_state=12)"
      ]
     },
     "execution_count": 74,
     "metadata": {},
     "output_type": "execute_result"
    }
   ],
   "source": [
    "clf.fit(X_train,y_train)"
   ]
  },
  {
   "cell_type": "markdown",
   "id": "5a4f432f-3a7c-4a69-91a6-3ad00f14cad7",
   "metadata": {},
   "source": [
    "### Prediction and Evaluation"
   ]
  },
  {
   "cell_type": "code",
   "execution_count": 75,
   "id": "bb5a31cf-fc93-48c6-a543-c2b4dbaa4869",
   "metadata": {},
   "outputs": [
    {
     "name": "stdout",
     "output_type": "stream",
     "text": [
      "accuracy train data is: 0.25326\n",
      "accuracy test data is: 0.251\n"
     ]
    }
   ],
   "source": [
    "print(\"accuracy train data is:\",clf.score(X_train, y_train))\n",
    "print(\"accuracy test data is:\",clf.score(X_test, y_test))"
   ]
  },
  {
   "cell_type": "code",
   "execution_count": null,
   "id": "80b86f01-9bc5-4ea8-a38f-0ad9e2d33110",
   "metadata": {},
   "outputs": [],
   "source": []
  }
 ],
 "metadata": {
  "kernelspec": {
   "display_name": "Python 3 (ipykernel)",
   "language": "python",
   "name": "python3"
  },
  "language_info": {
   "codemirror_mode": {
    "name": "ipython",
    "version": 3
   },
   "file_extension": ".py",
   "mimetype": "text/x-python",
   "name": "python",
   "nbconvert_exporter": "python",
   "pygments_lexer": "ipython3",
   "version": "3.12.0"
  }
 },
 "nbformat": 4,
 "nbformat_minor": 5
}
